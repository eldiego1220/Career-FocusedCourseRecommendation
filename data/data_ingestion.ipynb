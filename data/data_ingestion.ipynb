{
 "cells": [
  {
   "cell_type": "code",
   "execution_count": 1,
   "metadata": {},
   "outputs": [],
   "source": [
    "import pandas as pd\n",
    "import numpy as np\n",
    "import sqlalchemy as sa\n",
    "import re, unidecode"
   ]
  },
  {
   "cell_type": "code",
   "execution_count": 2,
   "metadata": {},
   "outputs": [],
   "source": [
    "user = '' # TODO: Add username here\n",
    "passwd = '' # TODO: Add password here\n",
    "db_ip = '' # TODO: Add database IP here\n",
    "db_name = 'team_103'\n",
    "\n",
    "engine = sa.create_engine(f'mysql://{user}:{passwd}@{db_ip}/{db_name}', echo=True)"
   ]
  },
  {
   "cell_type": "code",
   "execution_count": 3,
   "metadata": {},
   "outputs": [
    {
     "data": {
      "text/plain": [
       "('esports', 'esports', 'ethers', 'salaryid')"
      ]
     },
     "execution_count": 3,
     "metadata": {},
     "output_type": "execute_result"
    }
   ],
   "source": [
    "def pascalCase(inp):\n",
    "    # Remove all accesnts from the string\n",
    "    inp = unidecode.unidecode(inp)\n",
    "    \n",
    "    # Check if the string is already in PascalCase\n",
    "    if inp.isalpha():\n",
    "        return inp.lower().replace('_', '').replace('-', '')\n",
    "        # return ''.join(inp[0].upper() + inp[1:]).replace('_', '').replace('-', '')\n",
    "\n",
    "    # Remove symbols from the string\n",
    "    # inp = re.split(r'[^\\w\\s]', '', inp)\n",
    "\n",
    "    # Split the string into words\n",
    "    words = re.split(r'[^a-zA-Z0-9]', inp)\n",
    "    # print(words)\n",
    "\n",
    "    # Capitalize the first letter of each word\n",
    "    words = [word.lower() for word in words]\n",
    "\n",
    "    # Join the words together\n",
    "    pascal_case = ''.join(words)\n",
    "\n",
    "    return pascal_case.replace('_', '').replace('-', '')\n",
    "\n",
    "# Some sanity checks\n",
    "pascalCase('esports'), pascalCase('e-sports'), pascalCase('éthers'), pascalCase('salary_id')"
   ]
  },
  {
   "cell_type": "code",
   "execution_count": 4,
   "metadata": {},
   "outputs": [],
   "source": [
    "def open_df_from_csv(file, usecols, index_cols, dtype):\n",
    "    df = pd.read_csv(\n",
    "        file, \n",
    "        usecols=usecols, \n",
    "        dtype=dtype\n",
    "    )\n",
    "    # Format index columns to prevent duplicates.\n",
    "    for idx_col in index_cols:\n",
    "        if df[idx_col].dtype == str or df[idx_col].dtype == object:\n",
    "            df[idx_col] = df[idx_col].apply(pascalCase)\n",
    "\n",
    "    if len(index_cols) > 0:\n",
    "        df = df.drop_duplicates(\n",
    "            subset=index_cols, \n",
    "            keep='first',\n",
    "            \n",
    "        )\n",
    "        \n",
    "    df = df.rename(\n",
    "        mapper=pascalCase, \n",
    "        axis=1\n",
    "    )\n",
    "\n",
    "    if len(index_cols) > 0:\n",
    "        df = df.set_index(\n",
    "            [pascalCase(x) for x in index_cols]\n",
    "        )\n",
    "\n",
    "    return df\n",
    "\n",
    "def export_table(df, table_name, engine):\n",
    "    df.to_sql(\n",
    "        table_name, \n",
    "        con=engine, \n",
    "        if_exists='append', \n",
    "        index=True\n",
    "    )\n"
   ]
  },
  {
   "cell_type": "markdown",
   "metadata": {},
   "source": [
    "## Open, clean, and export each `.csv` file."
   ]
  },
  {
   "cell_type": "markdown",
   "metadata": {},
   "source": [
    "### Courses"
   ]
  },
  {
   "cell_type": "code",
   "execution_count": 5,
   "metadata": {},
   "outputs": [
    {
     "name": "stdout",
     "output_type": "stream",
     "text": [
      "11277 Index(['year', 'term', 'subject', 'number', 'name', 'description',\n",
      "       'credithours'],\n",
      "      dtype='object')\n",
      "2024-04-06 01:08:56,313 INFO sqlalchemy.engine.Engine SELECT DATABASE()\n",
      "2024-04-06 01:08:56,314 INFO sqlalchemy.engine.Engine [raw sql] ()\n",
      "2024-04-06 01:08:56,324 INFO sqlalchemy.engine.Engine SELECT @@sql_mode\n",
      "2024-04-06 01:08:56,324 INFO sqlalchemy.engine.Engine [raw sql] ()\n",
      "2024-04-06 01:08:56,327 INFO sqlalchemy.engine.Engine SELECT @@lower_case_table_names\n",
      "2024-04-06 01:08:56,328 INFO sqlalchemy.engine.Engine [raw sql] ()\n",
      "2024-04-06 01:08:56,336 INFO sqlalchemy.engine.Engine BEGIN (implicit)\n",
      "2024-04-06 01:08:56,340 INFO sqlalchemy.engine.Engine DESCRIBE `team_103`.`Courses`\n",
      "2024-04-06 01:08:56,341 INFO sqlalchemy.engine.Engine [raw sql] ()\n",
      "2024-04-06 01:08:56,400 INFO sqlalchemy.engine.Engine INSERT INTO `Courses` (crn, year, term, subject, number, name, description, credithours) VALUES (%s, %s, %s, %s, %s, %s, %s, %s)\n",
      "2024-04-06 01:08:56,400 INFO sqlalchemy.engine.Engine [generated in 0.04313s] [(30107, 2024, 'Spring', 'AAS', 100, 'Intro Asian American Studies', 'Interdisciplinary introduction to the basic concepts and approaches in Asian American Studies. Surveys the various dimensions of Asian American experiences including history, social organization, literature, arts, and politics.', '3 hours.'), (41729, 2024, 'Spring', 'AAS', 100, 'Intro Asian American Studies', 'Interdisciplinary introduction to the basic concepts and approaches in Asian American Studies. Surveys the various dimensions of Asian American experiences including history, social organization, literature, arts, and politics.', '3 hours.'), (43832, 2024, 'Spring', 'AAS', 100, 'Intro Asian American Studies', 'Interdisciplinary introduction to the basic concepts and approaches in Asian American Studies. Surveys the various dimensions of Asian American experiences including history, social organization, literature, arts, and politics.', '3 hours.'), (48232, 2024, 'Spring', 'AAS', 100, 'Intro Asian American Studies', 'Interdisciplinary introduction to the basic concepts and approaches in Asian American Studies. Surveys the various dimensions of Asian American experiences including history, social organization, literature, arts, and politics.', '3 hours.'), (48234, 2024, 'Spring', 'AAS', 100, 'Intro Asian American Studies', 'Interdisciplinary introduction to the basic concepts and approaches in Asian American Studies. Surveys the various dimensions of Asian American experiences including history, social organization, literature, arts, and politics.', '3 hours.'), (50105, 2024, 'Spring', 'AAS', 100, 'Intro Asian American Studies', 'Interdisciplinary introduction to the basic concepts and approaches in Asian American Studies. Surveys the various dimensions of Asian American experiences including history, social organization, literature, arts, and politics.', '3 hours.'), (54572, 2024, 'Spring', 'AAS', 100, 'Intro Asian American Studies', 'Interdisciplinary introduction to the basic concepts and approaches in Asian American Studies. Surveys the various dimensions of Asian American experiences including history, social organization, literature, arts, and politics.', '3 hours.'), (51886, 2024, 'Spring', 'AAS', 100, 'Intro Asian American Studies', 'Interdisciplinary introduction to the basic concepts and approaches in Asian American Studies. Surveys the various dimensions of Asian American experiences including history, social organization, literature, arts, and politics.', '3 hours.')  ... displaying 10 of 11277 total bound parameter sets ...  (71770, 2024, 'Spring', 'YDSH', 102, 'Beginning Yiddish II', 'Continuation of YDSH 101 focusing on comprehension and reading skills. Prerequisite: YDSH 101.', '4 hours.'), (30928, 2024, 'Spring', 'ZULU', 202, 'Elementary Zulu II', 'Continuation of ZULU 201 with introduction of more advanced grammar; emphasis on more fluency in speaking, reading, and writing simple sentences in standard Zulu. Same as AFST 252. Participation in the language laboratory is required. Prerequisite: ZULU 201.', '5 hours.')]\n",
      "2024-04-06 01:08:57,313 INFO sqlalchemy.engine.Engine SHOW FULL TABLES FROM `team_103`\n",
      "2024-04-06 01:08:57,314 INFO sqlalchemy.engine.Engine [raw sql] ()\n",
      "2024-04-06 01:08:57,317 INFO sqlalchemy.engine.Engine COMMIT\n"
     ]
    }
   ],
   "source": [
    "courses_df = open_df_from_csv(\n",
    "    'courses.csv',\n",
    "    usecols=['CRN', 'Year', 'Term', 'Subject', 'Number', 'Name', 'Description', 'Credit Hours'],\n",
    "    index_cols=['CRN'],\n",
    "    dtype={'CRN': int, 'Year': int, 'Term': str, 'Subject': str, 'Number': int, 'Name': str, 'Description': str, 'Credit Hours': str}\n",
    ")\n",
    "print(len(courses_df), courses_df.columns)\n",
    "\n",
    "export_table(courses_df, 'Courses', engine)"
   ]
  },
  {
   "cell_type": "markdown",
   "metadata": {},
   "source": [
    "### Companies"
   ]
  },
  {
   "cell_type": "code",
   "execution_count": 6,
   "metadata": {},
   "outputs": [
    {
     "name": "stdout",
     "output_type": "stream",
     "text": [
      "11361 Index(['name', 'description', 'companysize', 'state', 'country', 'city',\n",
      "       'zipcode', 'address', 'url'],\n",
      "      dtype='object')\n",
      "2024-04-06 01:08:57,453 INFO sqlalchemy.engine.Engine BEGIN (implicit)\n",
      "2024-04-06 01:08:57,455 INFO sqlalchemy.engine.Engine DESCRIBE `team_103`.`Companies`\n",
      "2024-04-06 01:08:57,456 INFO sqlalchemy.engine.Engine [raw sql] ()\n",
      "2024-04-06 01:08:57,496 INFO sqlalchemy.engine.Engine INSERT INTO `Companies` (companyid, name, description, companysize, state, country, city, zipcode, address, url) VALUES (%s, %s, %s, %s, %s, %s, %s, %s, %s, %s)\n",
      "2024-04-06 01:08:57,496 INFO sqlalchemy.engine.Engine [generated in 0.02479s] [('1009', 'IBM', 'At IBM, we do more than work. We create. We create as technologists, developers, and engineers. We create with our partners. We create with our compe ... (138 characters truncated) ... e want to work with you.\\n\\nWe\\'re here to help every creator turn their \"what if\" into what is. Let\\'s create something that will change everything.', 7.0, 'NY', 'US', 'Armonk, New York', '10504', 'International Business Machines Corp.', 'https://www.linkedin.com/company/ibm'), ('1016', 'GE HealthCare', 'Every day millions of people feel the impact of our intelligent devices, advanced analytics and artificial intelligence. As a leading global medical  ... (546 characters truncated) ... nd the world.\\n\\nWe embrace a culture of respect, transparency, integrity and diversity and we work to create a world where healthcare has no limits.', 7.0, '0', 'US', 'Chicago', '0', '-', 'https://www.linkedin.com/company/gehealthcare'), ('1021', 'GE Power', 'GE Power, part of GE Vernova, is a world energy leader that provides technology, solutions and services across the entire energy value chain from the point of generation to consumption. Powering more than a third of the world, it serves customers in more than 150 countries.', 7.0, 'NY', 'US', 'Schenectady', '12345', '1 River Road', 'https://www.linkedin.com/company/gepower'), ('1025', 'Hewlett Packard Enterprise', 'Official LinkedIn of Hewlett Packard Enterprise, the global edge-to-cloud company. Sharing our passion and purpose through technology and innovation. ', 7.0, 'Texas', 'US', 'Houston', '77389', '1701 E Mossy Oaks Rd Spring', 'https://www.linkedin.com/company/hewlett-packard-enterprise'), ('1028', 'Oracle', \"We’re a cloud technology company that provides organizations around the world with computing infrastructure and software to help them innovate, unloc ... (1397 characters truncated) ... ttps://twitter.com/oracle \\nLike our page on Facebook: https://www.facebook.com/Oracle/ \\nFollow us on Instagram: https://www.instagram.com/oracle/\\n\", 7.0, 'Texas', 'US', 'Austin', '78741', '2300 Oracle Way', 'https://www.linkedin.com/company/oracle'), ('1033', 'Accenture', 'Accenture is a global professional services company with leading capabilities in digital, cloud, and security. Combining unmatched experience and spe ... (379 characters truncated) ... e power of change to create value and shared success for our clients, people, shareholders, partners, and communities. \\n\\nVisit us at accenture.com.', 7.0, '0', 'IE', 'Dublin 2', '0', 'Grand Canal Harbour', 'https://www.linkedin.com/company/accenture'), ('1038', 'Deloitte', 'Deloitte drives progress. Our firms around the world help clients become leaders wherever they choose to compete. Deloitte invests in outstanding peo ... (988 characters truncated) ... adviser. No entity in the Deloitte Network shall be responsible for any loss whatsoever sustained by any person who relies on content from this page.', 7.0, '0', 'OO', 'Worldwide', '0', 'Worldwide', 'https://www.linkedin.com/company/deloitte'), ('1043', 'Siemens', 'Siemens is a technology company focused on industry, infrastructure, transport, and healthcare. From more resource-efficient factories, resilient sup ... (806 characters truncated) ... e of €4.4 billion. As of September 30, 2022, the company had around 311,000 employees worldwide. Further information is available at www.siemens.com.', 7.0, '0', 'DE', 'Munich', '80333', 'Werner-von-Siemens-Straße 1', 'https://www.linkedin.com/company/siemens')  ... displaying 10 of 11361 total bound parameter sets ...  ('3700150295', 'The Crox Group', \"The Crox Group, Head Quartered in Chicago, with its office in Noida, India. Our Infrastructure is fully supported, maintained and upgraded from time  ... (971 characters truncated) ... hich your unit, functions or\\nthe organization operates\\n\\n- Is your organization trying to beat the competition and struggling to\\npick up the pace.\", 2.0, 'Illinois', 'US', 'Lincolnwood', '60712', '6818 N Lincoln Ave', 'https://www.linkedin.com/company/the-crox-group'), ('3700152513', 'Sidley Austin LLP', 'Sidley is an elite global law firm with nearly US$3 billion in revenue powered by lawyers who practice at the highest level of the profession. Backed ... (1002 characters truncated) ... otographs.\\n\\nBUILT TO WIN℠ and BUILT TO LEAD℠ are service marks of Sidley Austin Holding LLP. © 2023 Sidley Austin Holding LLP. All rights reserved.', 5.0, 'Illinois', 'US', 'Chicago', '60603', 'One South Dearborn', 'https://www.linkedin.com/company/sidley-austin')]\n",
      "2024-04-06 01:08:59,517 INFO sqlalchemy.engine.Engine SHOW FULL TABLES FROM `team_103`\n",
      "2024-04-06 01:08:59,517 INFO sqlalchemy.engine.Engine [raw sql] ()\n",
      "2024-04-06 01:08:59,523 INFO sqlalchemy.engine.Engine COMMIT\n"
     ]
    }
   ],
   "source": [
    "companies_df = open_df_from_csv(\n",
    "    'job_postings/company_details/companies.csv',\n",
    "    usecols=['company_id','name','description','company_size','state','country','city','zip_code','address','url'],\n",
    "    index_cols=['company_id'],\n",
    "    dtype={'company_id': str, 'name': str, 'description': str, 'company_size': float, 'state': str, 'country': str, 'city': str, 'zip_code': str, 'address': str, 'url': str}\n",
    ")\n",
    "print(len(companies_df), companies_df.columns)\n",
    "\n",
    "export_table(companies_df, 'Companies', engine)"
   ]
  },
  {
   "cell_type": "markdown",
   "metadata": {},
   "source": [
    "### CompanyIndustries"
   ]
  },
  {
   "cell_type": "code",
   "execution_count": 7,
   "metadata": {},
   "outputs": [
    {
     "name": "stdout",
     "output_type": "stream",
     "text": [
      "12601 True\n",
      "12556 Index([], dtype='object')\n",
      "2024-04-06 01:08:59,597 INFO sqlalchemy.engine.Engine BEGIN (implicit)\n",
      "2024-04-06 01:08:59,598 INFO sqlalchemy.engine.Engine DESCRIBE `team_103`.`CompanyIndustries`\n",
      "2024-04-06 01:08:59,598 INFO sqlalchemy.engine.Engine [raw sql] ()\n",
      "2024-04-06 01:08:59,615 INFO sqlalchemy.engine.Engine INSERT INTO `CompanyIndustries` (companyid, industry) VALUES (%s, %s)\n",
      "2024-04-06 01:08:59,615 INFO sqlalchemy.engine.Engine [generated in 0.00812s] [('91459053', 'internet'), ('69571610', 'cosmetics'), ('62424', 'realestate'), ('1387626', 'realestate'), ('2502541', 'informationtechnologyservices'), ('298409', 'staffingrecruiting'), ('37768', 'informationtechnologyservices'), ('7032083', 'informationtechnologyservices')  ... displaying 10 of 12556 total bound parameter sets ...  ('10135152', 'governmentadministration'), ('373873', 'itservicesanditconsulting')]\n",
      "2024-04-06 01:08:59,852 INFO sqlalchemy.engine.Engine SHOW FULL TABLES FROM `team_103`\n",
      "2024-04-06 01:08:59,853 INFO sqlalchemy.engine.Engine [raw sql] ()\n",
      "2024-04-06 01:08:59,858 INFO sqlalchemy.engine.Engine COMMIT\n"
     ]
    }
   ],
   "source": [
    "company_industries_df = open_df_from_csv(\n",
    "    'job_postings/company_details/company_industries.csv',\n",
    "    usecols=['company_id','industry'],\n",
    "    index_cols=['company_id','industry'],\n",
    "    dtype={'company_id': str, 'industry': str}\n",
    ")\n",
    "print(len(company_industries_df), company_industries_df.index.is_unique)\n",
    "company_industries_df = company_industries_df[company_industries_df.index.get_level_values('companyid').isin(companies_df.index.get_level_values('companyid').unique())]\n",
    "print(len(company_industries_df), company_industries_df.columns)\n",
    "\n",
    "export_table(company_industries_df, 'CompanyIndustries', engine)"
   ]
  },
  {
   "cell_type": "markdown",
   "metadata": {},
   "source": [
    "### CompanySpecialities"
   ]
  },
  {
   "cell_type": "code",
   "execution_count": 8,
   "metadata": {},
   "outputs": [
    {
     "name": "stdout",
     "output_type": "stream",
     "text": [
      "78268 Index([], dtype='object')\n",
      "77930 Index([], dtype='object')\n",
      "2024-04-06 01:09:00,069 INFO sqlalchemy.engine.Engine BEGIN (implicit)\n",
      "2024-04-06 01:09:00,073 INFO sqlalchemy.engine.Engine DESCRIBE `team_103`.`CompanySpecialities`\n",
      "2024-04-06 01:09:00,073 INFO sqlalchemy.engine.Engine [raw sql] ()\n",
      "2024-04-06 01:09:00,218 INFO sqlalchemy.engine.Engine INSERT INTO `CompanySpecialities` (companyid, speciality) VALUES (%s, %s)\n",
      "2024-04-06 01:09:00,219 INFO sqlalchemy.engine.Engine [generated in 0.11637s] [('91459053', 'onlineprofessionalnetwork'), ('91459053', 'jobs'), ('91459053', 'peoplesearch'), ('91459053', 'companysearch'), ('91459053', 'addressbook'), ('91459053', 'advertising'), ('91459053', 'professionalidentity'), ('91459053', 'recruiting')  ... displaying 10 of 77930 total bound parameter sets ...  ('2293632', 'outdoordigitalsignage'), ('373873', 'systemintegratorforerpsandntierwebbasedprojects')]\n",
      "2024-04-06 01:09:01,407 INFO sqlalchemy.engine.Engine SHOW FULL TABLES FROM `team_103`\n",
      "2024-04-06 01:09:01,407 INFO sqlalchemy.engine.Engine [raw sql] ()\n",
      "2024-04-06 01:09:01,413 INFO sqlalchemy.engine.Engine COMMIT\n"
     ]
    }
   ],
   "source": [
    "company_specialities_df = open_df_from_csv(\n",
    "    'job_postings/company_details/company_specialities.csv',\n",
    "    usecols=['company_id','speciality'],\n",
    "    index_cols=['company_id','speciality'],\n",
    "    dtype={'company_id': str,'speciality': str}\n",
    ")\n",
    "print(len(company_specialities_df), company_specialities_df.columns)\n",
    "company_specialities_df = company_specialities_df[company_specialities_df.index.get_level_values('companyid').isin(companies_df.index.get_level_values('companyid').unique())]\n",
    "company_specialities_df = company_specialities_df[company_specialities_df.index.get_level_values('speciality').str.len() <= 255]\n",
    "print(len(company_specialities_df), company_specialities_df.columns)\n",
    "\n",
    "\n",
    "export_table(company_specialities_df, 'CompanySpecialities', engine)"
   ]
  },
  {
   "cell_type": "markdown",
   "metadata": {},
   "source": [
    "### EmployeeCounts"
   ]
  },
  {
   "cell_type": "code",
   "execution_count": 9,
   "metadata": {},
   "outputs": [
    {
     "name": "stdout",
     "output_type": "stream",
     "text": [
      "11323 Index(['employeecount', 'followercount', 'timerecorded'], dtype='object')\n",
      "11278 Index(['employeecount', 'followercount', 'timerecorded'], dtype='object')\n",
      "2024-04-06 01:09:01,449 INFO sqlalchemy.engine.Engine BEGIN (implicit)\n",
      "2024-04-06 01:09:01,450 INFO sqlalchemy.engine.Engine DESCRIBE `team_103`.`EmployeeCounts`\n",
      "2024-04-06 01:09:01,450 INFO sqlalchemy.engine.Engine [raw sql] ()\n",
      "2024-04-06 01:09:01,467 INFO sqlalchemy.engine.Engine INSERT INTO `EmployeeCounts` (companyid, employeecount, followercount, timerecorded) VALUES (%s, %s, %s, %s)\n",
      "2024-04-06 01:09:01,467 INFO sqlalchemy.engine.Engine [generated in 0.01031s] [('91459053', 2, 24, 1692644648.8276289), ('69571610', 3717, 158109, 1692644650.6863291), ('62424', 899, 10311, 1692644651.0513952), ('1387626', 1676, 39770, 1692644651.449499), ('2502541', 29, 8058, 1692644653.155199), ('298409', 395, 146046, 1692644653.5256968), ('37768', 2025, 231325, 1692644653.940611), ('7032083', 119, 40756, 1692644654.387137)  ... displaying 10 of 11278 total bound parameter sets ...  ('10135152', 6322, 31953, 1699139828.0), ('373873', 45, 30298, 1699139828.0)]\n",
      "2024-04-06 01:09:01,741 INFO sqlalchemy.engine.Engine SHOW FULL TABLES FROM `team_103`\n",
      "2024-04-06 01:09:01,742 INFO sqlalchemy.engine.Engine [raw sql] ()\n",
      "2024-04-06 01:09:01,751 INFO sqlalchemy.engine.Engine COMMIT\n"
     ]
    }
   ],
   "source": [
    "employee_counts_df = open_df_from_csv(\n",
    "    'job_postings/company_details/employee_counts.csv',\n",
    "    usecols=['company_id','employee_count','follower_count','time_recorded'],\n",
    "    index_cols=['company_id'],\n",
    "    dtype={'company_id': str,'employee_count': int,'follower_count': int,'time_recorded': float}\n",
    ")\n",
    "print(len(employee_counts_df), employee_counts_df.columns)\n",
    "employee_counts_df = employee_counts_df[employee_counts_df.index.get_level_values('companyid').isin(companies_df.index.get_level_values('companyid').unique())]\n",
    "print(len(employee_counts_df), employee_counts_df.columns)\n",
    "\n",
    "export_table(employee_counts_df, 'EmployeeCounts', engine)"
   ]
  },
  {
   "cell_type": "markdown",
   "metadata": {},
   "source": [
    "### JobPostings"
   ]
  },
  {
   "cell_type": "code",
   "execution_count": 10,
   "metadata": {},
   "outputs": [
    {
     "name": "stdout",
     "output_type": "stream",
     "text": [
      "33246 Index(['companyid', 'title', 'description', 'formattedworktype', 'location',\n",
      "       'applies', 'originallistedtime', 'remoteallowed', 'views',\n",
      "       'jobpostingurl', 'applicationurl', 'applicationtype', 'expiry',\n",
      "       'closedtime', 'formattedexperiencelevel', 'skillsdesc', 'listedtime',\n",
      "       'postingdomain', 'sponsored', 'worktype', 'scraped'],\n",
      "      dtype='object')\n",
      "32545 Index(['companyid', 'title', 'description', 'formattedworktype', 'location',\n",
      "       'applies', 'originallistedtime', 'remoteallowed', 'views',\n",
      "       'jobpostingurl', 'applicationurl', 'applicationtype', 'expiry',\n",
      "       'closedtime', 'formattedexperiencelevel', 'skillsdesc', 'listedtime',\n",
      "       'postingdomain', 'sponsored', 'worktype', 'scraped'],\n",
      "      dtype='object')\n",
      "2024-04-06 01:09:02,587 INFO sqlalchemy.engine.Engine BEGIN (implicit)\n",
      "2024-04-06 01:09:02,592 INFO sqlalchemy.engine.Engine DESCRIBE `team_103`.`JobPostings`\n",
      "2024-04-06 01:09:02,593 INFO sqlalchemy.engine.Engine [raw sql] ()\n",
      "2024-04-06 01:09:02,798 INFO sqlalchemy.engine.Engine INSERT INTO `JobPostings` (jobid, companyid, title, description, formattedworktype, location, applies, originallistedtime, remoteallowed, views, jobpostingurl, applicationurl, applicationtype, expiry, closedtime, formattedexperiencelevel, skillsdesc, listedtime, postingdomain, sponsored, worktype, scraped) VALUES (%s, %s, %s, %s, %s, %s, %s, %s, %s, %s, %s, %s, %s, %s, %s, %s, %s, %s, %s, %s, %s, %s)\n",
      "2024-04-06 01:09:02,799 INFO sqlalchemy.engine.Engine [generated in 0.13965s] [('3757940104', '553718', 'Hearing Care Provider', 'Overview\\n\\nHearingLife is a national hearing care company and part of the Demant Group, a global leader in hearing healthcare built on a heritage of ... (4994 characters truncated) ... n\\nwithout regard to race, color, religion, sexual orientation, sex, national origin, disability, or protected veteran status.\\n\\n#HearingLife_US\\n\\n', 'Full-time', 'Little River, SC', None, 1699090000000.0, None, 9.0, 'https://www.linkedin.com/jobs/view/3757940104/?trk=jobs_biz_prem_srch', 'https://careers-demant.icims.com/jobs/19601/hearing-care-provider/job', 'OffsiteApply', 1701680000000.0, None, 'Entry level', None, 1699090000000.0, 'careers-demant.icims.com', 0, 'FULL_TIME', 1699138101), ('3757940025', '2192142', 'Shipping & Receiving Associate 2nd shift (Beaver Dam)', 'Metalcraft of Mayville\\nMetalcraft of Mayville is an Equal Opportunity Employer:Minorities/females/veterans/individuals with disabilities/sexual orie ... (2059 characters truncated) ... d ability to multi-task.Strong basic math skills.Previous forklift experience.Exposure to a fast paced Lean manufacturing environment\\n \\nPI232449725', 'Full-time', 'Beaver Dam, WI', None, 1699080000000.0, None, None, 'https://www.linkedin.com/jobs/view/3757940025/?trk=jobs_biz_prem_srch', 'https://www.click2apply.net/mXLQz5S5NEYEXsKjwHRdYq', 'OffsiteApply', 1701680000000.0, None, None, None, 1699080000000.0, 'www.click2apply.net', 0, 'FULL_TIME', 1699085420), ('3757938019', '474443', 'Manager, Engineering', \"\\nThe TSUBAKI name is synonymous with excellence in quality, dependability, and customer service. U.S. Tsubaki is a leading manufacturer and supplier ... (3620 characters truncated) ... tions. Perform field checks as required. Follow build status of engineered projects internally and externally. Other tasks or projects as assigned.\\n\", 'Full-time', 'Bessemer, AL', None, 1699080000000.0, None, None, 'https://www.linkedin.com/jobs/view/3757938019/?trk=jobs_biz_prem_srch', 'https://www.click2apply.net/LwbOykH2yAJdahB5Ah5Gzp', 'OffsiteApply', 1701680000000.0, None, None, \"Bachelor's Degree in Mechanical Engineering preferred or equivalent work experience.10 years working in an Industrial Equipment Construction Environm ... (1554 characters truncated) ... o attend bid meetings and review job sites.\\n\\nTsubaki is an Equal Opportunity Employer - Minorities/Females/Veterans/Disability\\n\\nPM21\\nPI232449413\", 1699080000000.0, 'www.click2apply.net', 0, 'FULL_TIME', 1699085644), ('3757938018', '18213359', 'Cook', \"descriptionTitle\\n\\n Looking for a great opportunity to develop your professional skills while giving back to the community? Work with us as a Cook h ... (2680 characters truncated) ... This Video Now:   https://youtu.be/876uP3JcChw \\n\\n Want to see what it's like to work here? \\n\\n Watch This Video Now:  https://youtu.be/876uP3JcChw\", 'Full-time', 'Aliso Viejo, CA', None, 1699080000000.0, None, 1.0, 'https://www.linkedin.com/jobs/view/3757938018/?trk=jobs_biz_prem_srch', 'https://jobs.apploi.com/view/854782?utm_campaign=jobs_snippet&utm_source=episcopalcommunities-career-page&utm_medium=client-web-site&utm_term=josh-reiss&_=1699084136.7855182', 'OffsiteApply', 1701680000000.0, None, 'Entry level', None, 1699080000000.0, 'jobs.apploi.com', 0, 'FULL_TIME', 1699087461), ('3757937095', '437225', 'Principal Cloud Security Architect (Remote)', 'Job Summary\\nAt iHerb, we are on a mission to make health and wellness accessible to everyone globally through our\\n\\nproducts and platforms. The Inf ... (7510 characters truncated) ... ty or veteran status. iHerb provides equal employment opportunities to all applicants for employment and prohibits discrimination and harassment.\\n\\n', 'Full-time', 'United States', None, 1698970000000.0, 1, None, 'https://www.linkedin.com/jobs/view/3757937095/?trk=jobs_biz_prem_srch', 'https://careers.iherb.com/global/en/job/IHINGLOBAL5796275003EXTERNALENGLOBAL/Principal-Cloud-Security-Architect-Remote?utm_source=linkedin&utm_medium=phenom-feeds', 'OffsiteApply', 1701680000000.0, None, 'Mid-Senior level', None, 1699090000000.0, 'careers.iherb.com', 0, 'FULL_TIME', 1699085346), ('3757937037', '13727', 'Territory Manager - New Haven', \"Location: Remote, CT, United States of America\\n\\nCardiac Management Solutions\\n\\nAt ZOLL, we're passionate about improving patient outcomes and help ... (5597 characters truncated) ... rit. Join us in our efforts to improve outcomes for underserved patients suffering from critical cardiopulmonary conditions and help save more lives.\", 'Full-time', 'United States', None, 1698720000000.0, 1, 16.0, 'https://www.linkedin.com/jobs/view/3757937037/?trk=jobs_biz_prem_srch', 'https://www.zoll.com/contact/careers-at-zoll/careers-search?rid=5588', 'OffsiteApply', 1701680000000.0, 1700000000000.0, 'Mid-Senior level', None, 1699080000000.0, 'www.zoll.com', 0, 'FULL_TIME', 1699137801), ('3757937004', '10515052', 'Auto Body Techncian', 'Company: Gerber Collision & Glass\\n\\nWELCOME TO GERBER COLLISION & GLASS\\n\\nOur Team Members Drive Us! Gerber Collision & Glass is one of the largest ... (3117 characters truncated) ... Glass has been WOWing customers with our collision repair services for over 80 years. Please visit gerbercareers.com to learn more about our company.', 'Full-time', 'Daytona Beach, FL', None, 1699080000000.0, None, 1.0, 'https://www.linkedin.com/jobs/view/3757937004/?trk=jobs_biz_prem_srch', 'https://boydgroup.wd1.myworkdayjobs.com/boydcareers/job/Daytona-Beach-Florida/Auto-Body-Techncian_R032745?source=LinkedIn', 'OffsiteApply', 1701680000000.0, None, 'Entry level', None, 1699080000000.0, 'boydgroup.wd1.myworkdayjobs.com', 0, 'FULL_TIME', 1699089473), ('3757936167', '2915', 'ACME D8- Asst Store Director (ASD) Sussex, NJ', 'The First Assistant Store Director is actively involved in and provides friendly, courteous, and helpful customer service daily. The First Assistant  ... (2697 characters truncated) ... with legal requirements and company policies and procedures, including check cashing, security, safety, sanitation, wage and hour, etc.\\n\\nFocus on c', 'Full-time', 'Sussex, NJ', None, 1696920000000.0, None, 2.0, 'https://www.linkedin.com/jobs/view/3757936167/?trk=jobs_biz_prem_srch', 'https://eofd.fa.us6.oraclecloud.com/hcmUI/CandidateExperience/en/sites/CX/job/381452/?utm_source=linkedin&utm_medium=jobboard', 'OffsiteApply', 1701680000000.0, None, 'Mid-Senior level', None, 1699090000000.0, 'eofd.fa.us6.oraclecloud.com', 0, 'FULL_TIME', 1699138852)  ... displaying 10 of 32545 total bound parameter sets ...  ('102339515', '52132271', 'Franchise Owner', 'DuctVentz is a dryer and A/C – heat vent clean out business that can be opened and operated by one or more persons, and remotely.\\n\\nMeet the hiring  ... (1316 characters truncated) ... bove qualifications and requirements, we invite you to attend an introductory Zoom or phone call.\\nWe look forward to starting this journey with you!', 'Full-time', 'Greater Boston', None, 1699050000000.0, None, None, 'https://www.linkedin.com/jobs/view/102339515/?trk=jobs_biz_prem_srch', None, 'SimpleOnsiteApply', 1701640000000.0, None, None, None, 1699050000000.0, None, 0, 'FULL_TIME', 1699063495), ('3958427', '630152', 'Stylist/ Clorist', 'Karen Marie is looking for an awesome experienced stylist! Are you looking for a relaxed yet proffesional environment to bring current clients and bu ... (147 characters truncated) ... state of Illinois. A stylist with a background in color, extensions, make up artist and cutting would be great but we are open to specialits as well!', 'Full-time', 'Chicago, IL', None, 1699050000000.0, None, 7.0, 'https://www.linkedin.com/jobs/view/3958427/?trk=jobs_biz_prem_srch', None, 'ComplexOnsiteApply', 1714600000000.0, None, None, 'Must be a seasoned stylist with an existing book. Trained make up artist. Colorist. Stylist. Extensions Artist. Wedding Stylists. Editorial Stylists. Advanced training.', 1699050000000.0, None, 0, 'FULL_TIME', 1699057868)]\n",
      "2024-04-06 01:09:24,725 INFO sqlalchemy.engine.Engine SHOW FULL TABLES FROM `team_103`\n",
      "2024-04-06 01:09:24,725 INFO sqlalchemy.engine.Engine [raw sql] ()\n",
      "2024-04-06 01:09:24,730 INFO sqlalchemy.engine.Engine COMMIT\n"
     ]
    }
   ],
   "source": [
    "job_postings_df = open_df_from_csv(\n",
    "    \"job_postings/job_postings.csv\",\n",
    "    usecols=[\n",
    "        \"job_id\",\n",
    "        \"company_id\",\n",
    "        \"title\",\n",
    "        \"description\",\n",
    "        \"formatted_work_type\",\n",
    "        \"location\",\n",
    "        \"applies\",\n",
    "        \"original_listed_time\",\n",
    "        \"remote_allowed\",\n",
    "        \"views\",\n",
    "        \"job_posting_url\",\n",
    "        \"application_url\",\n",
    "        \"application_type\",\n",
    "        \"expiry\",\n",
    "        \"closed_time\",\n",
    "        \"formatted_experience_level\",\n",
    "        \"skills_desc\",\n",
    "        \"listed_time\",\n",
    "        \"posting_domain\",\n",
    "        \"sponsored\",\n",
    "        \"work_type\",\n",
    "        \"scraped\",\n",
    "    ],\n",
    "    index_cols=[\"job_id\"],\n",
    "    dtype={\"job_id\": str,\n",
    "        \"company_id\": str,\n",
    "        \"title\": str,\n",
    "        \"description\": str,\n",
    "        \"formatted_work_type\": str,\n",
    "        \"location\": str,\n",
    "        \"applies\": float,\n",
    "        \"original_listed_time\": float,\n",
    "        \"remote_allowed\": 'Int64',\n",
    "        \"views\": float,\n",
    "        \"job_posting_url\": str,\n",
    "        \"application_url\": str,\n",
    "        \"application_type\": str,\n",
    "        \"closed_time\": float,\n",
    "        \"formatted_experience_level\": str,\n",
    "        \"skills_desc\": str,\n",
    "        \"listed_time\": float,\n",
    "        \"posting_domain\": str,\n",
    "        \"sponsored\": 'Int64',\n",
    "        \"work_type\": str,\n",
    "        \"scraped\": 'Int64',\n",
    "    },\n",
    ")\n",
    "print(len(job_postings_df), job_postings_df.columns)\n",
    "job_postings_df = job_postings_df[job_postings_df['companyid'].isin(companies_df.index.get_level_values('companyid').unique())]\n",
    "print(len(job_postings_df), job_postings_df.columns)\n",
    "\n",
    "export_table(job_postings_df, \"JobPostings\", engine)"
   ]
  },
  {
   "cell_type": "markdown",
   "metadata": {},
   "source": [
    "### Benefits"
   ]
  },
  {
   "cell_type": "code",
   "execution_count": 11,
   "metadata": {},
   "outputs": [
    {
     "name": "stdout",
     "output_type": "stream",
     "text": [
      "29325 Index(['inferred'], dtype='object')\n",
      "28621 Index(['inferred'], dtype='object')\n",
      "2024-04-06 01:09:25,131 INFO sqlalchemy.engine.Engine BEGIN (implicit)\n",
      "2024-04-06 01:09:25,132 INFO sqlalchemy.engine.Engine DESCRIBE `team_103`.`Benefits`\n",
      "2024-04-06 01:09:25,132 INFO sqlalchemy.engine.Engine [raw sql] ()\n",
      "2024-04-06 01:09:25,197 INFO sqlalchemy.engine.Engine INSERT INTO `Benefits` (jobid, type, inferred) VALUES (%s, %s, %s)\n",
      "2024-04-06 01:09:25,197 INFO sqlalchemy.engine.Engine [generated in 0.05232s] [('3691799471', '401k', 1), ('3691799471', 'medicalinsurance', 1), ('3691799471', 'disabilityinsurance', 1), ('3692301169', 'medicalinsurance', 0), ('3692301169', 'visioninsurance', 0), ('3692301169', 'dentalinsurance', 0), ('3692303024', 'medicalinsurance', 0), ('3692303024', 'visioninsurance', 0)  ... displaying 10 of 28621 total bound parameter sets ...  ('3757934256', 'disabilityinsurance', 0), ('3757498232', 'medicalinsurance', 1)]\n",
      "2024-04-06 01:09:25,988 INFO sqlalchemy.engine.Engine SHOW FULL TABLES FROM `team_103`\n",
      "2024-04-06 01:09:25,990 INFO sqlalchemy.engine.Engine [raw sql] ()\n",
      "2024-04-06 01:09:25,997 INFO sqlalchemy.engine.Engine COMMIT\n"
     ]
    }
   ],
   "source": [
    "benefits_df = open_df_from_csv(\n",
    "    'job_postings/job_details/benefits.csv',\n",
    "    usecols=['job_id','inferred','type',],\n",
    "    index_cols=['job_id','type',],\n",
    "    dtype={'job_id': str,'inferred': int,'type': str,}\n",
    ")\n",
    "print(len(benefits_df), benefits_df.columns)\n",
    "benefits_df = benefits_df[benefits_df.index.get_level_values('jobid').isin(job_postings_df.index.get_level_values('jobid').unique())]\n",
    "print(len(benefits_df), benefits_df.columns)\n",
    "\n",
    "export_table(benefits_df, 'Benefits', engine)"
   ]
  },
  {
   "cell_type": "markdown",
   "metadata": {},
   "source": [
    "### Salaries"
   ]
  },
  {
   "cell_type": "code",
   "execution_count": 12,
   "metadata": {},
   "outputs": [
    {
     "name": "stdout",
     "output_type": "stream",
     "text": [
      "13352 Index(['jobid', 'maxsalary', 'medsalary', 'minsalary', 'payperiod', 'currency',\n",
      "       'compensationtype'],\n",
      "      dtype='object')\n",
      "13116 Index(['jobid', 'maxsalary', 'medsalary', 'minsalary', 'payperiod', 'currency',\n",
      "       'compensationtype'],\n",
      "      dtype='object')\n",
      "2024-04-06 01:09:26,044 INFO sqlalchemy.engine.Engine BEGIN (implicit)\n",
      "2024-04-06 01:09:26,045 INFO sqlalchemy.engine.Engine DESCRIBE `team_103`.`Salaries`\n",
      "2024-04-06 01:09:26,046 INFO sqlalchemy.engine.Engine [raw sql] ()\n",
      "2024-04-06 01:09:26,079 INFO sqlalchemy.engine.Engine INSERT INTO `Salaries` (salaryid, jobid, maxsalary, medsalary, minsalary, payperiod, currency, compensationtype) VALUES (%s, %s, %s, %s, %s, %s, %s, %s)\n",
      "2024-04-06 01:09:26,079 INFO sqlalchemy.engine.Engine [generated in 0.02079s] [('10', '3691799471', 135300.0, None, 98400.0, 'YEARLY', 'USD', 'BASE_SALARY'), ('11', '3691799474', 18.0, None, 16.0, 'HOURLY', 'USD', 'BASE_SALARY'), ('13', '3692301162', 73.0, None, 65.0, 'HOURLY', 'USD', 'BASE_SALARY'), ('14', '3692301169', 63000.0, None, 60000.0, 'YEARLY', 'USD', 'BASE_SALARY'), ('15', '3692301171', 48000.0, None, 35000.0, 'YEARLY', 'USD', 'BASE_SALARY'), ('16', '3692302089', 80.0, None, 70.0, 'HOURLY', 'USD', 'BASE_SALARY'), ('17', '3696362362', 68000.0, None, 61000.0, 'YEARLY', 'USD', 'BASE_SALARY'), ('19', '3696388859', 255525.0, None, 185700.0, 'YEARLY', 'USD', 'BASE_SALARY')  ... displaying 10 of 13116 total bound parameter sets ...  ('13738', '3757485745', None, 48.0, None, 'HOURLY', 'USD', 'BASE_SALARY'), ('13740', '3757486249', 115000.0, None, 100000.0, 'YEARLY', 'USD', 'BASE_SALARY')]\n",
      "2024-04-06 01:09:26,852 INFO sqlalchemy.engine.Engine SHOW FULL TABLES FROM `team_103`\n",
      "2024-04-06 01:09:26,853 INFO sqlalchemy.engine.Engine [raw sql] ()\n",
      "2024-04-06 01:09:26,856 INFO sqlalchemy.engine.Engine COMMIT\n"
     ]
    }
   ],
   "source": [
    "salaries_df = open_df_from_csv(\n",
    "    'job_postings/job_details/salaries.csv',\n",
    "    usecols=['salary_id','job_id','max_salary','med_salary','min_salary','pay_period','currency','compensation_type',],\n",
    "    index_cols=['salary_id'],\n",
    "    dtype={'salary_id': str,'job_id': str,'max_salary': float,'med_salary': float,'min_salary': float,'pay_period':str,'currency': str,'compensation_type': str,}\n",
    ")\n",
    "print(len(salaries_df), salaries_df.columns)\n",
    "salaries_df = salaries_df[salaries_df['jobid'].isin(job_postings_df.index.get_level_values('jobid').unique())]\n",
    "print(len(salaries_df), salaries_df.columns)\n",
    "\n",
    "export_table(salaries_df, 'Salaries', engine)"
   ]
  },
  {
   "cell_type": "markdown",
   "metadata": {},
   "source": [
    "### Skills"
   ]
  },
  {
   "cell_type": "code",
   "execution_count": 13,
   "metadata": {},
   "outputs": [
    {
     "name": "stdout",
     "output_type": "stream",
     "text": [
      "35 Index([], dtype='object')\n",
      "2024-04-06 01:09:26,880 INFO sqlalchemy.engine.Engine BEGIN (implicit)\n",
      "2024-04-06 01:09:26,881 INFO sqlalchemy.engine.Engine DESCRIBE `team_103`.`Skills`\n",
      "2024-04-06 01:09:26,882 INFO sqlalchemy.engine.Engine [raw sql] ()\n",
      "2024-04-06 01:09:26,888 INFO sqlalchemy.engine.Engine INSERT INTO `Skills` (skillid, skillname) VALUES (%s, %s)\n",
      "2024-04-06 01:09:26,889 INFO sqlalchemy.engine.Engine [generated in 0.00036s] [('prch', 'purchasing'), ('supl', 'supplychain'), ('pr', 'publicrelations'), ('sci', 'science'), ('stra', 'strategyplanning'), ('wrt', 'writingediting'), ('qa', 'qualityassurance'), ('dist', 'distribution')  ... displaying 10 of 35 total bound parameter sets ...  ('it', 'informationtechnology'), ('adm', 'administrative')]\n",
      "2024-04-06 01:09:26,892 INFO sqlalchemy.engine.Engine SHOW FULL TABLES FROM `team_103`\n",
      "2024-04-06 01:09:26,892 INFO sqlalchemy.engine.Engine [raw sql] ()\n",
      "2024-04-06 01:09:26,896 INFO sqlalchemy.engine.Engine COMMIT\n"
     ]
    }
   ],
   "source": [
    "skills_df = open_df_from_csv(\n",
    "    'job_postings/maps/skills.csv',\n",
    "    usecols=['skill_id','skill_name'],\n",
    "    index_cols=['skill_id','skill_name'],\n",
    "    dtype={'skill_id': str,'skill_name': str}\n",
    ")\n",
    "print(len(skills_df), skills_df.columns)\n",
    "\n",
    "export_table(skills_df, 'Skills', engine)"
   ]
  },
  {
   "cell_type": "markdown",
   "metadata": {},
   "source": [
    "### Industries"
   ]
  },
  {
   "cell_type": "code",
   "execution_count": 14,
   "metadata": {},
   "outputs": [
    {
     "name": "stdout",
     "output_type": "stream",
     "text": [
      "212 Index([], dtype='object')\n",
      "2024-04-06 01:09:26,911 INFO sqlalchemy.engine.Engine BEGIN (implicit)\n",
      "2024-04-06 01:09:26,912 INFO sqlalchemy.engine.Engine DESCRIBE `team_103`.`Industries`\n",
      "2024-04-06 01:09:26,912 INFO sqlalchemy.engine.Engine [raw sql] ()\n",
      "2024-04-06 01:09:26,917 INFO sqlalchemy.engine.Engine INSERT INTO `Industries` (industryid, industryname) VALUES (%s, %s)\n",
      "2024-04-06 01:09:26,917 INFO sqlalchemy.engine.Engine [generated in 0.00035s] [(1, 'defenseandspacemanufacturing'), (3, 'computerhardwaremanufacturing'), (4, 'softwaredevelopment'), (5, 'computernetworkingproducts'), (6, 'technologyinformationandinternet'), (7, 'semiconductormanufacturing'), (8, 'telecommunications'), (9, 'lawpractice')  ... displaying 10 of 212 total bound parameter sets ...  (3243, 'servicesforrenewableenergy'), (3251, 'climatetechnologyproductmanufacturing')]\n",
      "2024-04-06 01:09:26,921 INFO sqlalchemy.engine.Engine SHOW FULL TABLES FROM `team_103`\n",
      "2024-04-06 01:09:26,921 INFO sqlalchemy.engine.Engine [raw sql] ()\n",
      "2024-04-06 01:09:26,923 INFO sqlalchemy.engine.Engine COMMIT\n"
     ]
    }
   ],
   "source": [
    "industries_df = open_df_from_csv(\n",
    "    'job_postings/maps/industries.csv',\n",
    "    usecols=['industry_id','industry_name'],\n",
    "    index_cols=['industry_id','industry_name'],\n",
    "    dtype={'industry_id': int,'industry_name': str}\n",
    ")\n",
    "print(len(industries_df), industries_df.columns)\n",
    "\n",
    "export_table(industries_df, 'Industries', engine)"
   ]
  },
  {
   "cell_type": "markdown",
   "metadata": {},
   "source": [
    "### JobSkills"
   ]
  },
  {
   "cell_type": "code",
   "execution_count": 15,
   "metadata": {},
   "outputs": [
    {
     "name": "stdout",
     "output_type": "stream",
     "text": [
      "56591 ['jobid', 'skillid']\n",
      "54760 Index([], dtype='object')\n",
      "54760 Index([], dtype='object')\n",
      "2024-04-06 01:09:27,045 INFO sqlalchemy.engine.Engine BEGIN (implicit)\n",
      "2024-04-06 01:09:27,047 INFO sqlalchemy.engine.Engine DESCRIBE `team_103`.`JobSkills`\n",
      "2024-04-06 01:09:27,047 INFO sqlalchemy.engine.Engine [raw sql] ()\n",
      "2024-04-06 01:09:27,159 INFO sqlalchemy.engine.Engine INSERT INTO `JobSkills` (jobid, skillid) VALUES (%s, %s)\n",
      "2024-04-06 01:09:27,159 INFO sqlalchemy.engine.Engine [generated in 0.09615s] [('3691797924', 'eng'), ('3691797924', 'it'), ('3691799471', 'othr'), ('3691799471', 'rsch'), ('3691799474', 'mgmt'), ('3691799474', 'genb'), ('3691799474', 'adm'), ('3692300361', 'mrkt')  ... displaying 10 of 54760 total bound parameter sets ...  ('3757934256', 'it'), ('3757498232', 'adm')]\n",
      "2024-04-06 01:09:28,640 INFO sqlalchemy.engine.Engine SHOW FULL TABLES FROM `team_103`\n",
      "2024-04-06 01:09:28,641 INFO sqlalchemy.engine.Engine [raw sql] ()\n",
      "2024-04-06 01:09:28,645 INFO sqlalchemy.engine.Engine COMMIT\n"
     ]
    }
   ],
   "source": [
    "job_skills_df = open_df_from_csv(\n",
    "    'job_postings/job_details/job_skills.csv',\n",
    "    usecols=['job_id','skill_id'],\n",
    "    index_cols=['job_id','skill_id'],\n",
    "    dtype={'job_id': str,'skill_id': str}\n",
    ")\n",
    "print(len(job_skills_df), job_skills_df.index.names)\n",
    "job_skills_df = job_skills_df[job_skills_df.index.get_level_values('jobid').isin(job_postings_df.index.get_level_values('jobid').unique())]\n",
    "print(len(job_skills_df), job_skills_df.columns)\n",
    "job_skills_df = job_skills_df[job_skills_df.index.get_level_values('skillid').isin(skills_df.index.get_level_values('skillid').unique())]\n",
    "print(len(job_skills_df), job_skills_df.columns)\n",
    "\n",
    "export_table(job_skills_df, 'JobSkills', engine)"
   ]
  },
  {
   "cell_type": "markdown",
   "metadata": {},
   "source": [
    "### JobIndustries"
   ]
  },
  {
   "cell_type": "code",
   "execution_count": 16,
   "metadata": {},
   "outputs": [
    {
     "name": "stdout",
     "output_type": "stream",
     "text": [
      "44091 Index([], dtype='object')\n",
      "42769 Index([], dtype='object')\n",
      "42732 Index([], dtype='object')\n",
      "2024-04-06 01:09:28,727 INFO sqlalchemy.engine.Engine BEGIN (implicit)\n",
      "2024-04-06 01:09:28,729 INFO sqlalchemy.engine.Engine DESCRIBE `team_103`.`JobIndustries`\n",
      "2024-04-06 01:09:28,729 INFO sqlalchemy.engine.Engine [raw sql] ()\n",
      "2024-04-06 01:09:28,770 INFO sqlalchemy.engine.Engine INSERT INTO `JobIndustries` (jobid, industryid) VALUES (%s, %s)\n",
      "2024-04-06 01:09:28,771 INFO sqlalchemy.engine.Engine [generated in 0.02774s] [('3691797924', 6), ('3691799471', 25), ('3691799471', 18), ('3691799474', 44), ('3692300361', 44), ('3692301162', 96), ('3692301162', 14), ('3692301162', 4)  ... displaying 10 of 42732 total bound parameter sets ...  ('3757934256', 80), ('3757498232', 14)]\n",
      "2024-04-06 01:09:29,807 INFO sqlalchemy.engine.Engine SHOW FULL TABLES FROM `team_103`\n",
      "2024-04-06 01:09:29,808 INFO sqlalchemy.engine.Engine [raw sql] ()\n",
      "2024-04-06 01:09:29,831 INFO sqlalchemy.engine.Engine COMMIT\n"
     ]
    }
   ],
   "source": [
    "job_industries_df = open_df_from_csv(\n",
    "    'job_postings/job_details/job_industries.csv',\n",
    "    usecols=['job_id','industry_id'],\n",
    "    index_cols=['job_id','industry_id'],\n",
    "    dtype={'job_id': str,'industry_id': int}\n",
    ")\n",
    "print(len(job_industries_df), job_industries_df.columns)\n",
    "job_industries_df = job_industries_df[job_industries_df.index.get_level_values('jobid').isin(job_postings_df.index.get_level_values('jobid').unique())]\n",
    "print(len(job_industries_df), job_industries_df.columns)\n",
    "job_industries_df = job_industries_df[job_industries_df.index.get_level_values('industryid').isin(industries_df.index.get_level_values('industryid').unique())]\n",
    "print(len(job_industries_df), job_industries_df.columns)\n",
    "\n",
    "export_table(job_industries_df, 'JobIndustries', engine)"
   ]
  },
  {
   "cell_type": "markdown",
   "metadata": {},
   "source": [
    "### CompanyReviews"
   ]
  },
  {
   "cell_type": "code",
   "execution_count": 17,
   "metadata": {},
   "outputs": [
    {
     "name": "stdout",
     "output_type": "stream",
     "text": [
      "17050 Index(['name', 'rating', 'reviews', 'description', 'happiness', 'ceoapproval',\n",
      "       'ceocount', 'ratings', 'locations', 'roles', 'salary',\n",
      "       'interviewexperience', 'interviewdifficulty', 'interviewduration',\n",
      "       'interviewcount', 'headquarters', 'employees', 'industry', 'revenue',\n",
      "       'website'],\n",
      "      dtype='object')\n",
      "1372 1372 Index(['name', 'rating', 'reviews', 'description', 'happiness', 'ceoapproval',\n",
      "       'ceocount', 'ratings', 'locations', 'roles', 'salary',\n",
      "       'interviewexperience', 'interviewdifficulty', 'interviewduration',\n",
      "       'interviewcount', 'headquarters', 'employees', 'industry', 'revenue',\n",
      "       'website', 'companyid', 'description_y', 'companysize', 'state',\n",
      "       'country', 'city', 'zipcode', 'address', 'url'],\n",
      "      dtype='object')\n",
      "1372 1372\n",
      "['reviewid']\n",
      "2024-04-06 01:09:30,019 INFO sqlalchemy.engine.Engine BEGIN (implicit)\n",
      "2024-04-06 01:09:30,020 INFO sqlalchemy.engine.Engine DESCRIBE `team_103`.`CompanyReviews`\n",
      "2024-04-06 01:09:30,020 INFO sqlalchemy.engine.Engine [raw sql] ()\n",
      "2024-04-06 01:09:30,038 INFO sqlalchemy.engine.Engine INSERT INTO `CompanyReviews` (reviewid, rating, reviews, description, happiness, ceoapproval, ceocount, ratings, locations, roles, salary, interviewexperience, interviewdifficulty, interviewduration, interviewcount, revenue, website, companyid) VALUES (%s, %s, %s, %s, %s, %s, %s, %s, %s, %s, %s, %s, %s, %s, %s, %s, %s, %s)\n",
      "2024-04-06 01:09:30,038 INFO sqlalchemy.engine.Engine [generated in 0.00473s] [(0, None, None, \"Grand Valley State University (commonly referred to as GVSU, GV, or Grand Valley) is a public liberal arts university located in Allendale, Michigan, ... (87 characters truncated) ...  on 1,322 acres (5.35 km2) approximately 12 miles (19 km) west of Grand Rapids. Classes are also offered at the university's growing Robert C. – less\", \"{'Work Happiness Score': '75', 'Achievement': '86', 'Appreciation': '86', 'Inclusion': '84', 'Learning': '84', 'Flexibility': '84', 'Purpose': '84', 'Support': '83', 'Trust': '82', 'Management': '82', 'Belonging': '82', 'Energy': '76', 'Compensation': '68'}\", '96%', 'CEO Approval is based on 95 ratings', \"{'Work/Life Balance': '4.2', 'Compensation/Benefits': '3.6', 'Job Security/Advancement': '3.6', 'Management': '4.1', 'Culture': '4.2'}\", \"{'Allendale, MI': '4.4', 'Grand Rapids, MI': '4.3', 'Traverse City, MI': '4.3'}\", \"{'Clerical Worker': '5.0', 'Laboratory Assistant': '5.0', 'Teaching Assistant': '5.0', 'Laboratory Technician': '4.8', 'Student Employee': '4.7'}\", \"{'Graduate Assistant': '$17,717 per year', 'Student Assistant': '$13.10 per hour', 'Laboratory Technician': '$12.10 per hour'}\", 'Favorable', 'Medium', 'About a week', 'Based on 33 interviews', '$100M to $500M (USD)', 'Grand Valley State University website', '3641332'), (2, 3.5, '147 reviews', 'Cheyenne Regional Medical Center is a 222-bed hospital, located in Cheyenne, Wyoming. We provide exceptional patient care and are passionate about mo ... (805 characters truncated) ... he insurance arm of Cheyenne Regional, and Wyoming Health Solutions provides administrative and organizational support for regional providers. – less', \"{'Work Happiness Score': '65', 'Learning': '78', 'Purpose': '77', 'Support': '73', 'Appreciation': '71', 'Compensation': '71', 'Achievement': '69', 'Energy': '69', 'Flexibility': '67', 'Belonging': '63', 'Inclusion': '61', 'Trust': '61', 'Management': '61'}\", '64%', 'CEO Approval is based on 73 ratings', \"{'Work/Life Balance': '3.4', 'Compensation/Benefits': '3.6', 'Job Security/Advancement': '3.1', 'Management': '2.9', 'Culture': '3.3'}\", '{}', '{}', \"{'Nursing Assistant': '$16.12 per hour', 'Patient Access Manager': '$26,634 per year', 'Registered Nurse': '$57,974 per year'}\", 'Favorable', 'Medium', 'About a week', 'Based on 18 interviews', None, 'Cheyenne Regional Medical Center website', '990745'), (3, None, None, 'CSD’s people and programs deliver personalized, professional, evidence-based behavioral and developmental services to each participant, and peace of  ... (153 characters truncated) ... anization providing services to those with developmental delays, including autism, in the state of California, Oregon, Washington, and Hawaii. – less', \"{'Work Happiness Score': '61', 'Purpose': '72', 'Learning': '70', 'Achievement': '66', 'Inclusion': '66', 'Flexibility': '65', 'Compensation': '63', 'Support': '63', 'Management': '59', 'Appreciation': '59', 'Energy': '59', 'Trust': '58', 'Belonging': '55'}\", '57%', 'CEO Approval is based on 30 ratings', \"{'Work/Life Balance': '3.3', 'Compensation/Benefits': '3.1', 'Job Security/Advancement': '3.1', 'Management': '3.0', 'Culture': '3.5'}\", \"{'Oakland, CA': '4.5', 'Alameda, CA': '3.8', 'Rohnert Park, CA': '3.7', 'San Bruno, CA': '2.9'}\", \"{'Behavioral Therapist': '3.8', 'ABA Therapist': '3.7', 'Behavioral Specialist': '3.5', 'Behavior Technician': '3.3', 'Program Supervisor': '2.3'}\", \"{'Behavioral Specialist': '$19.20 per hour', 'Coach': '$19.25 per hour', 'Program Supervisor': '$65,589 per year'}\", 'Favorable', 'Easy', 'About two weeks', 'Based on 19 interviews', None, 'Twitter\\nFacebook\\n...more', '5034592'), (5, 3.6, '2.7K reviews', 'Regions Financial Corporation is the 10th largest U.S.-based bank, providing retail and commercial banking services, insurance and mortgage products, ... (900 characters truncated) ... uture\" and appreciate the \"great team environment.\" On the other hand, some say the culture is \"conservative\" and \"not willing to take risks.\" – less', \"{'Work Happiness Score': '56', 'Achievement': '67', 'Flexibility': '66', 'Learning': '65', 'Appreciation': '64', 'Compensation': '63', 'Purpose': '63', 'Support': '63', 'Inclusion': '60', 'Energy': '58', 'Management': '57', 'Trust': '55', 'Belonging': '54'}\", '80%', 'CEO Approval is based on 1,085 ratings', \"{'Work/Life Balance': '3.7', 'Compensation/Benefits': '3.6', 'Job Security/Advancement': '3.3', 'Management': '3.2', 'Culture': '3.4'}\", \"{'Grenada, MS': '5.0', 'West Monroe, LA': '4.8', 'Alpharetta, GA': '4.8', 'Brandon, MS': '4.7', 'Coral Gables, FL': '4.7'}\", \"{'Accounts Payable Clerk': '5.0', 'Accounting Clerk': '5.0', 'Vice President of Operations': '5.0', 'Process Technician': '4.8', 'Senior Team Leader': '4.8'}\", \"{'Teller': '$12.26 per hour', 'Financial Specialist': '$31,360 per year', 'Financial Consultant': '$42,559 per year'}\", 'Favorable', 'Medium', 'About two weeks', 'Based on 360 interviews', '$5B to $10B (USD)', 'Facebook\\nRegions Bank website', '4224'), (6, 4.2, '561 reviews', 'George Mason University (also Mason), located in Fairfax, Virginia, United States, is the largest public research university in the Commonwealth of V ... (193 characters truncated) ... ics, law, creative writing, computer science, and business. In recent years, George Mason faculty have twice won the Nobel Prize in Economics. – less', \"{'Work Happiness Score': '78', 'Flexibility': '87', 'Purpose': '84', 'Achievement': '83', 'Appreciation': '83', 'Learning': '82', 'Support': '82', 'Energy': '81', 'Inclusion': '80', 'Trust': '79', 'Belonging': '78', 'Compensation': '77', 'Management': '76'}\", '83%', 'CEO Approval is based on 181 ratings', \"{'Work/Life Balance': '4.1', 'Compensation/Benefits': '3.4', 'Job Security/Advancement': '3.5', 'Management': '3.8', 'Culture': '4.0'}\", \"{'Arlington, VA': '4.5', 'Manassas, VA': '4.5', 'Mason, OH': '4.4', 'Baltimore, MD': '4.3', 'Fairfax, VA': '4.2'}\", \"{'Student Intern': '5.0', 'Laboratory Technician': '5.0', 'Senior Designer': '5.0', 'Student': '5.0', 'Intern': '4.9'}\", \"{'Graduate Assistant': '$17,897 per year', 'Graduate Researcher': '$21,894 per year', 'Assistant Professor': '$83,009 per year'}\", 'Favorable', 'Medium', 'About a week', 'Based on 133 interviews', '$500M to $1B (USD)', 'George Mason University website', '5489'), (7, 3.1, '201 reviews', 'Newegg caters to tech-enthusiasts who build their own computers. The company, which prides itself on \"fresh\" offerings, is a leading online-only dist ... (360 characters truncated) ...  by vendors including Apple, ATi, Canon, Sony, Toshiba, and Viewsonic. Founded in 2001, Newegg has customers in the US, Canada, and now China. – less', '{}', '49%', 'CEO Approval is based on 81 ratings', \"{'Work/Life Balance': '3.1', 'Compensation/Benefits': '2.9', 'Job Security/Advancement': '2.7', 'Management': '2.6', 'Culture': '2.9'}\", \"{'Rowland Heights, CA': '3.8', 'Indianapolis, IN': '3.5', 'Memphis, TN': '3.4', 'Pico Rivera, CA': '3.3', 'Whittier, CA': '3.0'}\", \"{'Order Picker': '3.8', 'Warehouse Worker': '3.6', 'Account Executive': '3.3', 'Packer': '3.2', 'Merchandise Manager': '3.0'}\", \"{'Customer Service Representative': '$13.45 per hour', 'Merchandise Manager': '$52,050 per year', 'Merchandiser': '$52,953 per year'}\", 'Average', 'Easy', 'About a day or two', 'Based on 60 interviews', '$1B to $5B (USD)', 'Twitter\\nFacebook\\nNewegg website', '14541'), (8, 3.0, '63 reviews', \"At Woodard & Curran, there’s nothing we love more than a tough engineering challenge. We handle a wide range of water and environmental issues—solvin ... (196 characters truncated) ... ness problems. By considering them from different perspectives, we often uncover new answers and overcome challenges where others have failed. – less\", '{}', '67%', 'CEO Approval is based on 27 ratings', \"{'Work/Life Balance': '3.2', 'Compensation/Benefits': '3.2', 'Job Security/Advancement': '2.7', 'Management': '2.8', 'Culture': '3.1'}\", \"{'Walnut Creek, CA': '3.7', 'White Plains, NY': '3.3', 'Inverness, FL': '3.3', 'Dedham, MA': '3.3', 'Portland, ME': '2.6'}\", \"{'Wastewater Operator': '3.0', 'Project Manager': '2.3', 'Project Engineer': '2.1', 'Administrative Assistant': '2.0', 'Engineer': '1.7'}\", '{}', 'Favorable', 'Medium', 'About a day or two', 'Based on 7 interviews', '$100M to $500M (USD)', 'Twitter\\nFacebook\\n...more', '21542'), (9, 3.7, '154 reviews', \"Harnessing agility and a broad base of expertise, Textron Systems’ innovative businesses design, manufacture, field and support comprehensive solutio ... (298 characters truncated) ... ce software solutions, precision weapons, piston engines, test and training systems, and total lifecycle sustainment and operational services. – less\", \"{'Work Happiness Score': '70', 'Flexibility': '78', 'Purpose': '75', 'Compensation': '73', 'Achievement': '73', 'Appreciation': '72', 'Learning': '72', 'Energy': '71', 'Support': '71', 'Inclusion': '71', 'Management': '67', 'Trust': '66', 'Belonging': '64'}\", '73%', 'CEO Approval is based on 62 ratings', \"{'Work/Life Balance': '3.7', 'Compensation/Benefits': '3.8', 'Job Security/Advancement': '3.2', 'Management': '3.2', 'Culture': '3.5'}\", \"{'Baltimore, MD': '4.8', 'Cockeysville, MD': '4.2', 'Slidell, LA': '3.8', 'New Orleans, LA': '3.7', 'Wilmington, MA': '3.6'}\", \"{'Flight Attendant': '4.0', 'Senior Mechanical Engineer': '4.0', 'Welder': '4.0', 'Fabricator/Welder': '3.7', 'Electrical Engineer': '3.7'}\", '{}', 'Favorable', 'Medium', 'About a month', 'Based on 35 interviews', '$100M to $500M (USD)', 'Twitter\\nFacebook\\nTextron Systems website', '3339')  ... displaying 10 of 1372 total bound parameter sets ...  (1720, 3.6, '151 reviews', 'ASRC Federal Holding Company is the government services subsidiary of Arctic Slope Regional Corporation, an Alaska Native Corporation owned by approx ... (281 characters truncated) ... ices and unwavering commitment to helping customers overcome their challenges has served as the catalyst for growth and expansion of services. – less', '{}', '79%', 'CEO Approval is based on 77 ratings', \"{'Work/Life Balance': '3.7', 'Compensation/Benefits': '3.7', 'Job Security/Advancement': '3.1', 'Management': '3.1', 'Culture': '3.3'}\", \"{'Colorado Springs, CO': '4.3', 'Reston, VA': '4.3', 'Washington, DC': '3.8', 'Greenbelt, MD': '3.7', 'Arlington, VA': '3.7'}\", \"{'Administrative Assistant': '4.7', 'GIS Technician': '3.7', 'Customer Service Representative': '3.5', 'Records Specialist': '3.0', 'Data Analyst': '2.8'}\", '{}', 'Favorable', 'Medium', 'About a week', 'Based on 48 interviews', '$500M to $1B (USD)', 'Twitter\\nFacebook\\nASRC Federal website', '373159'), (1721, 3.4, '2.6K reviews', 'Based in McLean, VA, Sunrise Senior Living provides personalized care to about 28,000 residents in more than 320 communities in the United States, Ca ... (710 characters truncated) ... urturing the Spirit\\n3. Celebrating Individuality\\n4. Enabling Freedom of Choice\\n5. Encouraging Independence\\n6. Involving Family and Friends – less', '{}', '68%', 'CEO Approval is based on 1,051 ratings', \"{'Work/Life Balance': '3.3', 'Compensation/Benefits': '3.2', 'Job Security/Advancement': '3.2', 'Management': '3.0', 'Culture': '3.3'}\", \"{'Santa Clarita, CA': '5.0', 'Holladay, UT': '4.8', 'Metairie, LA': '4.8', 'Pleasanton, CA': '4.7', 'Minneapolis, MN': '4.7'}\", \"{'Shift Leader': '5.0', 'Housekeeping Manager': '5.0', 'Room Manager': '4.8', 'Host/Hostess': '4.7', 'Volunteer': '4.5'}\", \"{'Care Manager': '$51,097 per year', 'Caregiver': '$28,085 per year', 'Nursing Assistant': '$31,474 per year'}\", 'Favorable', 'Medium', 'About a day or two', 'Based on 536 interviews', '$1B to $5B (USD)', 'Twitter\\nFacebook\\n...more', '7291')]\n",
      "2024-04-06 01:09:30,630 INFO sqlalchemy.engine.Engine SHOW FULL TABLES FROM `team_103`\n",
      "2024-04-06 01:09:30,631 INFO sqlalchemy.engine.Engine [raw sql] ()\n",
      "2024-04-06 01:09:30,636 INFO sqlalchemy.engine.Engine COMMIT\n"
     ]
    }
   ],
   "source": [
    "# TODO: CompanyReviews, match CompanyIds\n",
    "company_reviews_df = open_df_from_csv(\n",
    "    \"company_reviews.csv\",\n",
    "    usecols=[\n",
    "        \"name\",\n",
    "        \"rating\",\n",
    "        \"reviews\",\n",
    "        \"description\",\n",
    "        \"happiness\",\n",
    "        \"ceo_approval\",\n",
    "        \"ceo_count\",\n",
    "        \"ratings\",\n",
    "        \"locations\",\n",
    "        \"roles\",\n",
    "        \"salary\",\n",
    "        \"interview_experience\",\n",
    "        \"interview_difficulty\",\n",
    "        \"interview_duration\",\n",
    "        \"interview_count\",\n",
    "        \"headquarters\",\n",
    "        \"employees\",\n",
    "        \"industry\",\n",
    "        \"revenue\",\n",
    "        \"website\",\n",
    "    ],\n",
    "    index_cols=[],\n",
    "    dtype={\n",
    "        \"name\": str,\n",
    "        \"rating\": float,\n",
    "        \"reviews\": str,\n",
    "        \"description\": str,\n",
    "        \"happiness\": str,\n",
    "        \"ceo_approval\": str,\n",
    "        \"ceo_count\": str,\n",
    "        \"ratings\": str,\n",
    "        \"locations\": str,\n",
    "        \"roles\": str,\n",
    "        \"salary\": str,\n",
    "        \"interview_experience\": str,\n",
    "        \"interview_difficulty\": str,\n",
    "        \"interview_duration\": str,\n",
    "        \"interview_count\": str,\n",
    "        \"revenue\": str,\n",
    "        \"website\": str,\n",
    "    },\n",
    ")\n",
    "print(len(company_reviews_df), company_reviews_df.columns)\n",
    "\n",
    "# Inner join the two tables over company name.\n",
    "company_reviews_df = company_reviews_df.merge(\n",
    "    companies_df.reset_index(), on=\"name\", how=\"inner\", suffixes=(None, \"_y\")\n",
    ")\n",
    "company_reviews_df = company_reviews_df.drop_duplicates(\n",
    "    subset=[\"name\"],\n",
    "    keep=\"first\",\n",
    ")\n",
    "print(\n",
    "    len(company_reviews_df),\n",
    "    len(company_reviews_df[\"name\"].unique()),\n",
    "    company_reviews_df.columns,\n",
    ")\n",
    "\n",
    "company_reviews_df = company_reviews_df.drop(\n",
    "    columns=[\n",
    "        \"name\",\n",
    "        \"headquarters\",\n",
    "        \"employees\",\n",
    "        \"industry\",\n",
    "        \"description_y\",\n",
    "        \"companysize\",\n",
    "        \"state\",\n",
    "        \"country\",\n",
    "        \"city\",\n",
    "        \"zipcode\",\n",
    "        \"address\",\n",
    "        \"url\",\n",
    "    ]\n",
    ")\n",
    "print(len(company_reviews_df), len(company_reviews_df['companyid'].unique()))\n",
    "\n",
    "company_reviews_df.index.names = ['reviewid']\n",
    "print(company_reviews_df.index.names)\n",
    "\n",
    "# company_reviews_df = company_reviews_df.set_index(\"companyid\")\n",
    "\n",
    "\n",
    "export_table(company_reviews_df, 'CompanyReviews', engine)"
   ]
  }
 ],
 "metadata": {
  "kernelspec": {
   "display_name": "torch",
   "language": "python",
   "name": "python3"
  },
  "language_info": {
   "codemirror_mode": {
    "name": "ipython",
    "version": 3
   },
   "file_extension": ".py",
   "mimetype": "text/x-python",
   "name": "python",
   "nbconvert_exporter": "python",
   "pygments_lexer": "ipython3",
   "version": "3.11.8"
  }
 },
 "nbformat": 4,
 "nbformat_minor": 2
}
